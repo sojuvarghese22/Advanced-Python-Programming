{
  "nbformat": 4,
  "nbformat_minor": 0,
  "metadata": {
    "colab": {
      "name": "3rdprogram.ipynb",
      "provenance": [],
      "mount_file_id": "1vh8iJHuHnXy5J33TzeukiQ9-pod69rOv",
      "authorship_tag": "ABX9TyPcT2hDvarrZV0xDA/dRDKa",
      "include_colab_link": true
    },
    "kernelspec": {
      "name": "python3",
      "display_name": "Python 3"
    },
    "language_info": {
      "name": "python"
    }
  },
  "cells": [
    {
      "cell_type": "markdown",
      "metadata": {
        "id": "view-in-github",
        "colab_type": "text"
      },
      "source": [
        "<a href=\"https://colab.research.google.com/github/sojuvarghese22/Advanced-Python-Programming/blob/main/3rdprogram.ipynb\" target=\"_parent\"><img src=\"https://colab.research.google.com/assets/colab-badge.svg\" alt=\"Open In Colab\"/></a>"
      ]
    },
    {
      "cell_type": "code",
      "execution_count": 14,
      "metadata": {
        "colab": {
          "base_uri": "https://localhost:8080/"
        },
        "id": "bX5p10--DVI5",
        "outputId": "bd02ae47-3356-46ef-fdcf-32110703f902"
      },
      "outputs": [
        {
          "output_type": "stream",
          "name": "stdout",
          "text": [
            "Before enhancing function\n",
            "i will use this function\n",
            "and will enhance this is decorator\n",
            "after enhancing function\n"
          ]
        }
      ],
      "source": [
        "def decor(fun):\n",
        "  def inner():\n",
        "    print(\"Before enhancing function\")\n",
        "    fun()\n",
        "    print(\"after enhancing function\")\n",
        "  return inner\n",
        "\n",
        "def num():\n",
        "    print(\"i will use this function\")\n",
        "    print(\"and will enhance this is decorator\") \n",
        " \n",
        "result = decor(num)\n",
        "result()"
      ]
    },
    {
      "cell_type": "code",
      "source": [
        ")"
      ],
      "metadata": {
        "id": "Sg7yGmn3Ddln"
      },
      "execution_count": null,
      "outputs": []
    }
  ]
}