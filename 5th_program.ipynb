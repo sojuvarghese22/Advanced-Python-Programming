{
  "nbformat": 4,
  "nbformat_minor": 0,
  "metadata": {
    "colab": {
      "name": "5th program.ipynb",
      "provenance": [],
      "authorship_tag": "ABX9TyN9W9dF06iLL2LgDrE9D31i",
      "include_colab_link": true
    },
    "kernelspec": {
      "name": "python3",
      "display_name": "Python 3"
    },
    "language_info": {
      "name": "python"
    }
  },
  "cells": [
    {
      "cell_type": "markdown",
      "metadata": {
        "id": "view-in-github",
        "colab_type": "text"
      },
      "source": [
        "<a href=\"https://colab.research.google.com/github/sojuvarghese22/Advanced-Python-Programming/blob/main/5th_program.ipynb\" target=\"_parent\"><img src=\"https://colab.research.google.com/assets/colab-badge.svg\" alt=\"Open In Colab\"/></a>"
      ]
    },
    {
      "cell_type": "code",
      "execution_count": 15,
      "metadata": {
        "colab": {
          "base_uri": "https://localhost:8080/"
        },
        "id": "Dl4yu5fGNnil",
        "outputId": "3a5a1da7-8a13-488d-f406-989a2659a0e6"
      },
      "outputs": [
        {
          "output_type": "stream",
          "name": "stdout",
          "text": [
            "1\n",
            "2\n",
            "3\n",
            "4\n",
            "10\n",
            "15\n"
          ]
        }
      ],
      "source": [
        "#more than one keyword argument passed in a function\n",
        "def funct(a,b,*args,**kwargs):\n",
        "  print(a)\n",
        "  print(b)\n",
        "  for i in args:\n",
        "    print(i)\n",
        "\n",
        "  for value in kwargs:\n",
        "    print(kwargs[value])\n",
        "    \n",
        "\n",
        "funct(1,2,3,4,num1 = 10, num2 = 15)\n",
        "\n"
      ]
    }
  ]
}