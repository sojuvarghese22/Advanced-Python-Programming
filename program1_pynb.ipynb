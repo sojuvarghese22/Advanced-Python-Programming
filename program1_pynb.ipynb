{
  "nbformat": 4,
  "nbformat_minor": 0,
  "metadata": {
    "colab": {
      "name": "program1.pynb",
      "provenance": [],
      "authorship_tag": "ABX9TyMnPAlXUZ59QIFfkj6m1MTg",
      "include_colab_link": true
    },
    "kernelspec": {
      "name": "python3",
      "display_name": "Python 3"
    },
    "language_info": {
      "name": "python"
    }
  },
  "cells": [
    {
      "cell_type": "markdown",
      "metadata": {
        "id": "view-in-github",
        "colab_type": "text"
      },
      "source": [
        "<a href=\"https://colab.research.google.com/github/sojuvarghese22/Advanced-Python-Programming/blob/main/program1_pynb.ipynb\" target=\"_parent\"><img src=\"https://colab.research.google.com/assets/colab-badge.svg\" alt=\"Open In Colab\"/></a>"
      ]
    },
    {
      "cell_type": "code",
      "execution_count": 7,
      "metadata": {
        "colab": {
          "base_uri": "https://localhost:8080/"
        },
        "id": "j2zcSs6C-3Yw",
        "outputId": "431145c3-d481-432b-dbe0-91d50216ad3f"
      },
      "outputs": [
        {
          "output_type": "stream",
          "name": "stdout",
          "text": [
            "list comprehension : [1, 4, 9, 16, 25, 36]\n",
            "convert into tuple (1, 2, 3, 4, 5, 6)\n"
          ]
        }
      ],
      "source": [
        "#List Comprehension\n",
        "mylist = [1,2,3,4,5,6]\n",
        "result = [number*number for number in mylist]\n",
        "print(f'list comprehension : {result}')\n",
        "\n",
        "# type casting (from list to tuple)\n",
        "mytuple = tuple([1,2,3,4,5,6])\n",
        "print(f'converted into tuple {mytuple}')\n"
      ]
    }
  ]
}